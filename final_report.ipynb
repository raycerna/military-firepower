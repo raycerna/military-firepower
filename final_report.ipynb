{
 "cells": [
  {
   "cell_type": "markdown",
   "id": "49033559",
   "metadata": {},
   "source": [
    "# Top Military Strength by Defense Budget"
   ]
  },
  {
   "cell_type": "code",
   "execution_count": null,
   "id": "8191eaac",
   "metadata": {},
   "outputs": [],
   "source": [
    "### Overview\n",
    "This is an analysis of the top 25 militaries with the "
   ]
  },
  {
   "cell_type": "code",
   "execution_count": 1,
   "id": "5e600f2d",
   "metadata": {},
   "outputs": [
    {
     "name": "stderr",
     "output_type": "stream",
     "text": [
      "<frozen importlib._bootstrap>:228: RuntimeWarning: scipy._lib.messagestream.MessageStream size changed, may indicate binary incompatibility. Expected 56 from C header, got 64 from PyObject\n"
     ]
    }
   ],
   "source": [
    "import math\n",
    "import pandas as pd\n",
    "import numpy as np\n",
    "import seaborn as sns\n",
    "import matplotlib.pyplot as plt\n",
    "import sklearn.preprocessing\n",
    "from sklearn import metrics\n",
    "from math import sqrt\n",
    "\n",
    "from sklearn.model_selection import train_test_split\n",
    "from sklearn.preprocessing import StandardScaler\n",
    "from scipy import stats\n",
    "from sklearn.cluster import KMeans\n",
    "from sklearn.decomposition import PCA\n",
    "\n",
    "import warnings\n",
    "warnings.filterwarnings(\"ignore\")\n",
    "import acquire\n",
    "import prepare"
   ]
  },
  {
   "cell_type": "code",
   "execution_count": 2,
   "id": "b0966303",
   "metadata": {},
   "outputs": [],
   "source": [
    "df = acquire.acquire_military()"
   ]
  },
  {
   "cell_type": "code",
   "execution_count": null,
   "id": "60ee95b8",
   "metadata": {},
   "outputs": [],
   "source": []
  }
 ],
 "metadata": {
  "kernelspec": {
   "display_name": "Python 3 (ipykernel)",
   "language": "python",
   "name": "python3"
  },
  "language_info": {
   "codemirror_mode": {
    "name": "ipython",
    "version": 3
   },
   "file_extension": ".py",
   "mimetype": "text/x-python",
   "name": "python",
   "nbconvert_exporter": "python",
   "pygments_lexer": "ipython3",
   "version": "3.9.7"
  }
 },
 "nbformat": 4,
 "nbformat_minor": 5
}
